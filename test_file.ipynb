{
 "cells": [
  {
   "cell_type": "code",
   "execution_count": 28,
   "metadata": {
    "collapsed": false
   },
   "outputs": [
    {
     "name": "stdout",
     "output_type": "stream",
     "text": [
      "[['goooooood', 'mian', 'lvoe'], ['badddd', 'de', 'eve']]\n"
     ]
    }
   ],
   "source": [
    "chap = []\n",
    "total = []\n",
    "title = \"goooooood\"\n",
    "writer = \"mian\"\n",
    "content = \"lvoe\"\n",
    "chap.append(title)\n",
    "chap.append(writer)\n",
    "chap.append(content)\n",
    "total.append(chap)\n",
    "chap = []\n",
    "title = \"badddd\"\n",
    "writer = \"de\"\n",
    "content = \"eve\"\n",
    "chap.append(title)\n",
    "chap.append(writer)\n",
    "chap.append(content)\n",
    "total.append(chap)\n",
    "print total"
   ]
  },
  {
   "cell_type": "code",
   "execution_count": 29,
   "metadata": {
    "collapsed": false
   },
   "outputs": [
    {
     "ename": "SyntaxError",
     "evalue": "invalid syntax (<ipython-input-29-a73de71b78bd>, line 1)",
     "output_type": "error",
     "traceback": [
      "\u001b[0;36m  File \u001b[0;32m\"<ipython-input-29-a73de71b78bd>\"\u001b[0;36m, line \u001b[0;32m1\u001b[0m\n\u001b[0;31m    final = [dict(index = i, chop = row[0],sul = row[1], bap = row[2]) for i, row(enumerate(total))]\u001b[0m\n\u001b[0m                                                                                                   ^\u001b[0m\n\u001b[0;31mSyntaxError\u001b[0m\u001b[0;31m:\u001b[0m invalid syntax\n"
     ]
    }
   ],
   "source": [
    "final = [dict(index = i, chop = row[0],sul = row[1], bap = row[2]) for i, row(enumerate(total))]\n",
    "print final"
   ]
  },
  {
   "cell_type": "code",
   "execution_count": 48,
   "metadata": {
    "collapsed": false
   },
   "outputs": [
    {
     "data": {
      "text/plain": [
       "12.0"
      ]
     },
     "execution_count": 48,
     "metadata": {},
     "output_type": "execute_result"
    }
   ],
   "source": [
    "import math\n",
    "x = 114.0\n",
    "a = 10\n",
    "math.ceil(x/a)"
   ]
  },
  {
   "cell_type": "code",
   "execution_count": 52,
   "metadata": {
    "collapsed": false
   },
   "outputs": [
    {
     "name": "stdout",
     "output_type": "stream",
     "text": [
      "[[]]\n"
     ]
    }
   ],
   "source": [
    "a = []\n",
    "a.append([])\n",
    "print a"
   ]
  },
  {
   "cell_type": "code",
   "execution_count": 55,
   "metadata": {
    "collapsed": false
   },
   "outputs": [],
   "source": [
    "a = [[['bbbbb', 'bbbb'], ['ccccc', 'ccccc']], [['asd', 'asd']]]"
   ]
  },
  {
   "cell_type": "code",
   "execution_count": 74,
   "metadata": {
    "collapsed": false
   },
   "outputs": [
    {
     "name": "stdout",
     "output_type": "stream",
     "text": [
      "bbbbb\n",
      "ccccc\n",
      "asd\n"
     ]
    }
   ],
   "source": [
    "for i in a:\n",
    "    for b in i:\n",
    "        print b[0]"
   ]
  },
  {
   "cell_type": "code",
   "execution_count": 81,
   "metadata": {
    "collapsed": false
   },
   "outputs": [
    {
     "ename": "SyntaxError",
     "evalue": "invalid syntax (<ipython-input-81-413fb382358a>, line 2)",
     "output_type": "error",
     "traceback": [
      "\u001b[0;36m  File \u001b[0;32m\"<ipython-input-81-413fb382358a>\"\u001b[0;36m, line \u001b[0;32m2\u001b[0m\n\u001b[0;31m    b = [dict(writer) for]\u001b[0m\n\u001b[0m                         ^\u001b[0m\n\u001b[0;31mSyntaxError\u001b[0m\u001b[0;31m:\u001b[0m invalid syntax\n"
     ]
    }
   ],
   "source": [
    "#finals = [dict(index = i,title = row[0], writer = row[1], content = row[2]) for i ,row in enumerate(total)]\n",
    "b = [dict(writer) for]"
   ]
  },
  {
   "cell_type": "code",
   "execution_count": 84,
   "metadata": {
    "collapsed": false
   },
   "outputs": [],
   "source": [
    "board = [[u'why so serious', u'zoker', u'batman'], [u'because despite', u'kimsu', u'book'], [u'daema', u'Gdragon', u'delicious']]\n",
    "comment = [[[u'spiderman', u'i hate you'], [u'batguy', u'huwaku']], [[u'ahn', u'i respect you']], [[u'acpul', u'you just idiot']]]"
   ]
  },
  {
   "cell_type": "code",
   "execution_count": 95,
   "metadata": {
    "collapsed": false
   },
   "outputs": [
    {
     "name": "stdout",
     "output_type": "stream",
     "text": [
      "[u'why so serious', u'zoker', u'batman']\n"
     ]
    }
   ],
   "source": [
    "print board[0]"
   ]
  },
  {
   "cell_type": "code",
   "execution_count": 105,
   "metadata": {
    "collapsed": false
   },
   "outputs": [
    {
     "name": "stdout",
     "output_type": "stream",
     "text": [
      "[u'spiderman', u'i hate you']\n"
     ]
    }
   ],
   "source": [
    "print comment[0][0]\n",
    "\n",
    "#첫번째 인덱스는 지금 보고있는번호 즉 tem[-1] 혹은  view 의 num에 해당된다\n",
    "#두번째 인덱스는 댓글의 ~번째다\n",
    "#세번째 인덱스는 작성자와 내용이다"
   ]
  },
  {
   "cell_type": "code",
   "execution_count": 124,
   "metadata": {
    "collapsed": false
   },
   "outputs": [
    {
     "name": "stdout",
     "output_type": "stream",
     "text": [
      "[{'content': u'batman', 'index': 0, 'writer': u'zoker', 'title': u'why so serious'}, {'content': u'book', 'index': 1, 'writer': u'kimsu', 'title': u'because despite'}, {'content': u'delicious', 'index': 2, 'writer': u'Gdragon', 'title': u'daema'}]\n"
     ]
    }
   ],
   "source": [
    "finals = [dict(index = i,title = row[0], writer = row[1], content = row[2]) for i ,row in enumerate(board)]\n",
    "print finals"
   ]
  },
  {
   "cell_type": "code",
   "execution_count": 122,
   "metadata": {
    "collapsed": false
   },
   "outputs": [
    {
     "name": "stdout",
     "output_type": "stream",
     "text": [
      "[{'content': u'i hate you', 'writer': u'spiderman'}, {'content': u'huwaku', 'writer': u'batguy'}]\n"
     ]
    }
   ],
   "source": [
    "fynal = [dict(writer = row[0], content = row[1]) for row in comment[0]]\n",
    "print fynal"
   ]
  }
 ],
 "metadata": {
  "kernelspec": {
   "display_name": "Python 2",
   "language": "python",
   "name": "python2"
  },
  "language_info": {
   "codemirror_mode": {
    "name": "ipython",
    "version": 2
   },
   "file_extension": ".py",
   "mimetype": "text/x-python",
   "name": "python",
   "nbconvert_exporter": "python",
   "pygments_lexer": "ipython2",
   "version": "2.7.10"
  }
 },
 "nbformat": 4,
 "nbformat_minor": 0
}
